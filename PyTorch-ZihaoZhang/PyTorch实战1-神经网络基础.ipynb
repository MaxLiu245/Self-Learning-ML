{
 "cells": [
  {
   "cell_type": "markdown",
   "metadata": {},
   "source": [
    "# PyTorch实战1\n",
    "\n",
    "> Note: 学习自[子豪同学的B站视频](https://www.bilibili.com/video/av54777178)，源文件来自[子豪同学的GitHub](https://github.com/TommyZihao/zihaopytorch).\n",
    "\n",
    "> **版权声明：代码修改自上述链接（MIT LICENSE），且我也参考了原始链接（见下）。如有侵权或不当的地方，我将抱以歉意，请尽快联系我。**"
   ]
  },
  {
   "cell_type": "markdown",
   "metadata": {},
   "source": [
    "## 目标\n",
    "\n",
    "这次实战的目标是使用Fashion-MINIST数据集做分类任务，期间复习PyTorch的简单用法，主要包括全连接网络，以及几种缓解过拟合的方法。"
   ]
  },
  {
   "cell_type": "markdown",
   "metadata": {},
   "source": [
    "## 数据集\n",
    "\n",
    "[数据集Fashion-MINIST](https://github.com/zalandoresearch/fashion-mnist/blob/master/README.zh-CN.md)是原手写数字图像数据集的一个变种，内容有所变化。\n",
    "\n",
    "根据中文文档说明，创造这个数据集是因为它更贴合现代技术。。。就这样吧，[其余](https://github.com/zalandoresearch/fashion-mnist/blob/master/README.zh-CN.md)不多做介绍。\n",
    "\n",
    "该数据集一共有四个文件，包括60000个训练数据和10000个测试数据，每个数据包括一张28$\\times$28的灰度图片和对应的标签，标签另外存在其它文件中。\n",
    "\n",
    "| 文件名  | 描述 | 样本量 | 文件大小 |\n",
    "| --- | --- |--- | --- |\n",
    "| train-images-idx3-ubyte.gz  | 训练集的图像  | 60,000|26 MBytes |\n",
    "| train-labels-idx1-ubyte.gz  | 训练集的类别标签  |60,000|29 KBytes |\n",
    "| t10k-images-idx3-ubyte.gz  | 测试集的图像  | 10,000|4.3 MBytes |\n",
    "| t10k-labels-idx1-ubyte.gz  | 测试集的类别标签  | 10,000| 5.1 KBytes |\n",
    "\n",
    "标签集包括10个标签，灰度图就不解释了。\n",
    "\n",
    "| 数字标签 | 实际意义 |\n",
    "| --- | --- |\n",
    "| 0 | T-shirt/top（T恤）|\n",
    "| 1 | Trouser（裤子）|\n",
    "| 2 | Pullover（套衫）|\n",
    "| 3 | Dress（裙子）|\n",
    "| 4 | Coat（外套）|\n",
    "| 5 | Sandal（凉鞋）|\n",
    "| 6 | Shirt（汗衫）|\n",
    "| 7 | Sneaker（运动鞋）|\n",
    "| 8 | Bag（包）|\n",
    "| 9 | Ankle boot（踝靴）|"
   ]
  },
  {
   "cell_type": "markdown",
   "metadata": {},
   "source": [
    "## 直接开干\n",
    "\n",
    "### 导入基本库"
   ]
  },
  {
   "cell_type": "code",
   "execution_count": 1,
   "metadata": {
    "ExecuteTime": {
     "end_time": "2019-06-10T10:25:17.205435Z",
     "start_time": "2019-06-10T10:25:06.458153Z"
    }
   },
   "outputs": [
    {
     "name": "stdout",
     "output_type": "stream",
     "text": [
      "1.1.0\n"
     ]
    }
   ],
   "source": [
    "from torchvision import datasets, transforms  # 导入数据集与数据预处理的方法\n",
    "\n",
    "\n",
    "from torch import nn, optim  # 导入神经网络与优化器对应的类\n",
    "import torch.nn.functional as F\n",
    "\n",
    "\n",
    "import torch  # 导入pytorch，查看一下版本\n",
    "print(torch.__version__)"
   ]
  },
  {
   "cell_type": "markdown",
   "metadata": {},
   "source": [
    "### 下载数据\n",
    "\n",
    "数据下载的时候要注意，Windows系统下可能会出现文件路径出错导致\n",
    "\n",
    "`FileNotFoundError: [Errno 2] No such file or directory`\n",
    "\n",
    "大致原因是系统默认未添加绝对路径，所以需要手动添加路径。\n",
    "\n",
    "另外下载文件的时候频繁报错同样的错，我也不知道为什么，但是多次重复下载即可。（这里大概运行了5~8次）"
   ]
  },
  {
   "cell_type": "code",
   "execution_count": 3,
   "metadata": {
    "ExecuteTime": {
     "end_time": "2019-06-10T10:25:18.067210Z",
     "start_time": "2019-06-10T10:25:18.009253Z"
    },
    "scrolled": false
   },
   "outputs": [],
   "source": [
    "# 数据预处理：标准化图像数据，使得灰度数据在-1到+1之间\n",
    "transform = transforms.Compose(\n",
    "    [transforms.ToTensor(), transforms.Normalize((0.5,), (0.5,))])\n",
    "\n",
    "# 下载Fashion-MNIST训练集数据，并构建训练集数据载入器trainloader,每次从训练集中载入64张图片，每次载入都打乱顺序\n",
    "trainset = datasets.FashionMNIST(\n",
    "    'C:\\\\Users\\\\dell\\\\Documents\\\\NoteBook\\\\zihaopytorch-master\\\\zihaopytorch-master\\\\dataset\\\\', download=True, train=True, transform=transform)\n",
    "trainloader = torch.utils.data.DataLoader(\n",
    "    trainset, batch_size=64, shuffle=True)\n",
    "\n",
    "# 下载Fashion-MNIST测试集数据，并构建测试集数据载入器trainloader,每次从测试集中载入64张图片，每次载入都打乱顺序\n",
    "testset = datasets.FashionMNIST(\n",
    "    'C:\\\\Users\\\\dell\\\\Documents\\\\NoteBook\\\\zihaopytorch-master\\\\zihaopytorch-master\\\\dataset\\\\', download=True, train=False, transform=transform)\n",
    "testloader = torch.utils.data.DataLoader(testset, batch_size=64, shuffle=True)"
   ]
  },
  {
   "cell_type": "markdown",
   "metadata": {},
   "source": [
    "### 数据可视化预览"
   ]
  },
  {
   "cell_type": "code",
   "execution_count": 4,
   "metadata": {
    "ExecuteTime": {
     "end_time": "2019-06-10T10:25:22.096320Z",
     "start_time": "2019-06-10T10:25:19.172142Z"
    }
   },
   "outputs": [
    {
     "name": "stdout",
     "output_type": "stream",
     "text": [
      "图片5对应的标签是套衫\n"
     ]
    },
    {
     "data": {
      "image/png": "[encoded data removed]",
      "text/plain": [
       "<Figure size 432x288 with 1 Axes>"
      ]
     },
     "metadata": {
      "needs_background": "light"
     },
     "output_type": "display_data"
    }
   ],
   "source": [
    "# 构建迭代器，image和label分别自动对应\n",
    "image, label = next(iter(trainloader))\n",
    "\n",
    "# 每个image图片中有64张图片，因为之前的batch_size=64，即每次有64份数据。\n",
    "# 我们查看索引为5的图片吧，嘻嘻:)\n",
    "seeimage = image[5]\n",
    "# 转化为28*28的灰度图\n",
    "seeimagetrans = seeimage.reshape((28,28))\n",
    "seeimagelabel = label[5]\n",
    "\n",
    "import matplotlib.pyplot as plt\n",
    "%matplotlib inline\n",
    "plt.imshow(seeimagetrans)\n",
    "\n",
    "labellist = ['T恤', '裤子', '套衫', '裙子', '外套', '凉鞋', '汗衫', '运动鞋', '包包', '靴子']\n",
    "print(f'图片{5}对应的标签是{labellist[seeimagelabel]}')"
   ]
  },
  {
   "cell_type": "markdown",
   "metadata": {},
   "source": [
    "注意每次迭代器给出的images是不同的64张图，所以重复运行结果不同。"
   ]
  },
  {
   "cell_type": "markdown",
   "metadata": {},
   "source": [
    "### 数据类型预览"
   ]
  },
  {
   "cell_type": "code",
   "execution_count": 5,
   "metadata": {
    "ExecuteTime": {
     "end_time": "2019-06-10T10:25:22.244931Z",
     "start_time": "2019-06-10T10:25:22.222982Z"
    },
    "scrolled": true
   },
   "outputs": [
    {
     "data": {
      "text/plain": [
       "tensor([[[-1.0000, -1.0000, -1.0000, -1.0000, -1.0000, -1.0000, -1.0000,\n",
       "          -1.0000, -1.0000, -1.0000, -1.0000, -1.0000, -1.0000, -1.0000,\n",
       "          -1.0000, -1.0000, -1.0000, -1.0000, -1.0000, -1.0000, -1.0000,\n",
       "          -1.0000, -1.0000, -1.0000, -1.0000, -1.0000, -1.0000, -1.0000],\n",
       "         [-1.0000, -1.0000, -1.0000, -1.0000, -1.0000, -1.0000, -1.0000,\n",
       "          -1.0000, -1.0000, -1.0000, -1.0000, -1.0000, -1.0000, -1.0000,\n",
       "          -1.0000, -1.0000, -1.0000, -1.0000, -1.0000, -1.0000, -1.0000,\n",
       "          -1.0000, -1.0000, -1.0000, -1.0000, -1.0000, -1.0000, -1.0000],\n",
       "         [-1.0000, -1.0000, -1.0000, -1.0000, -1.0000, -1.0000, -1.0000,\n",
       "          -1.0000, -1.0000, -1.0000, -1.0000, -1.0000, -1.0000, -1.0000,\n",
       "          -1.0000, -1.0000, -1.0000, -1.0000, -1.0000, -1.0000, -1.0000,\n",
       "          -1.0000, -1.0000, -1.0000, -1.0000, -1.0000, -1.0000, -1.0000],\n",
       "         [-1.0000, -1.0000, -1.0000, -1.0000, -1.0000, -1.0000, -1.0000,\n",
       "          -1.0000, -1.0000, -1.0000, -1.0000, -1.0000, -1.0000, -1.0000,\n",
       "          -1.0000, -1.0000, -1.0000, -1.0000, -1.0000, -1.0000, -1.0000,\n",
       "          -1.0000, -1.0000, -1.0000, -1.0000, -1.0000, -1.0000, -1.0000],\n",
       "         [-1.0000, -1.0000, -1.0000, -1.0000, -1.0000, -1.0000, -1.0000,\n",
       "          -1.0000, -1.0000, -1.0000, -0.9922, -1.0000, -1.0000, -1.0000,\n",
       "          -1.0000, -1.0000, -1.0000, -1.0000, -1.0000, -1.0000, -1.0000,\n",
       "          -1.0000, -1.0000, -1.0000, -0.7020, -0.8980, -1.0000, -0.9922],\n",
       "         [-1.0000, -1.0000, -1.0000, -1.0000, -1.0000, -1.0000, -1.0000,\n",
       "          -1.0000, -1.0000, -1.0000, -1.0000, -1.0000, -1.0000, -0.1294,\n",
       "           0.0118,  0.1137,  0.2549,  0.4980, -0.0980, -0.6706, -0.6157,\n",
       "          -0.6784, -0.7490, -1.0000, -0.0353,  0.0510, -1.0000, -0.9529],\n",
       "         [-1.0000, -1.0000, -1.0000, -1.0000, -1.0000, -1.0000, -1.0000,\n",
       "          -1.0000, -1.0000, -0.9843, -1.0000, -1.0000, -1.0000,  0.0667,\n",
       "           0.3176,  0.3804,  0.4039,  0.4275,  0.8039,  0.9922,  0.7804,\n",
       "           0.7490,  0.7176,  0.4588,  0.2549, -0.1686, -1.0000, -0.9686],\n",
       "         [-1.0000, -1.0000, -1.0000, -1.0000, -1.0000, -1.0000, -1.0000,\n",
       "          -1.0000, -1.0000, -0.9922, -0.9922, -1.0000, -1.0000,  0.0980,\n",
       "           0.2235,  0.3333,  0.3804,  0.3020,  0.5922,  0.6549,  0.2941,\n",
       "           0.2471,  0.3490,  0.2157,  0.1843, -0.5765, -1.0000, -0.9765],\n",
       "         [-1.0000, -1.0000, -1.0000, -1.0000, -1.0000, -1.0000, -1.0000,\n",
       "          -1.0000, -1.0000, -1.0000, -0.9843, -1.0000, -0.8980,  0.1843,\n",
       "           0.2078,  0.3412,  0.3961,  0.3882,  0.6235,  0.5373,  0.6157,\n",
       "           0.4118,  0.4353,  0.3020,  0.1686, -0.7961, -1.0000, -0.9843],\n",
       "         [-1.0000, -1.0000, -1.0000, -1.0000, -1.0000, -1.0000, -1.0000,\n",
       "          -1.0000, -1.0000, -1.0000, -0.9451, -1.0000, -0.5843,  0.2706,\n",
       "           0.1765,  0.3176,  0.3961,  0.2157,  0.1451,  0.0980,  0.3961,\n",
       "           0.8431,  0.3961,  0.2706,  0.0510, -1.0000, -1.0000, -0.9922],\n",
       "         [-1.0000, -1.0000, -1.0000, -1.0000, -1.0000, -1.0000, -1.0000,\n",
       "          -1.0000, -1.0000, -1.0000, -0.9686, -1.0000, -0.1765,  0.2784,\n",
       "           0.2078,  0.3020,  0.3804,  0.3176,  0.3490,  0.2784,  0.3569,\n",
       "           0.7961,  0.5294,  0.2235,  0.0980, -1.0000, -1.0000, -0.9922],\n",
       "         [-1.0000, -1.0000, -1.0000, -1.0000, -1.0000, -1.0000, -1.0000,\n",
       "          -1.0000, -1.0000, -1.0000, -1.0000, -1.0000,  0.2314,  0.2471,\n",
       "           0.2549,  0.3333,  0.4745,  0.4039,  0.8588,  0.9765,  0.5686,\n",
       "           0.6314,  0.3333,  0.1843,  0.3176, -1.0000, -1.0000, -0.9843],\n",
       "         [-1.0000, -1.0000, -1.0000, -1.0000, -1.0000, -1.0000, -1.0000,\n",
       "          -1.0000, -1.0000, -0.9373, -1.0000, -0.7255,  0.2471,  0.2078,\n",
       "           0.2784,  0.3412,  0.3804,  0.1608,  0.7098,  0.4745,  0.3176,\n",
       "           0.3333,  0.1843,  0.2471,  0.2784, -0.5843, -1.0000, -0.9765],\n",
       "         [-1.0000, -1.0000, -1.0000, -1.0000, -1.0000, -1.0000, -1.0000,\n",
       "          -1.0000, -0.9686, -1.0000, -1.0000, -0.0902,  0.2078,  0.1843,\n",
       "           0.2157,  0.2627,  0.2627,  0.1451,  0.7490,  0.3490,  0.3804,\n",
       "           0.3098,  0.2549,  0.2157,  0.3176, -0.0588, -1.0000, -1.0000],\n",
       "         [-1.0000, -1.0000, -1.0000, -1.0000, -1.0000, -1.0000, -0.9922,\n",
       "          -0.9922, -1.0000, -1.0000, -0.5922,  0.3020,  0.1608,  0.2314,\n",
       "           0.1843,  0.2941,  0.3098,  0.2941,  0.8039,  0.3333,  0.3804,\n",
       "           0.2314,  0.1765,  0.3020,  0.3333,  0.2078, -1.0000, -1.0000],\n",
       "         [-1.0000, -1.0000, -1.0000, -0.9922, -0.9765, -0.9922, -1.0000,\n",
       "          -1.0000, -0.9765, -0.3725,  0.1451, -0.0039, -0.0431,  0.1294,\n",
       "           0.2314,  0.3020,  0.2314,  0.3412,  0.7412,  0.2157,  0.2941,\n",
       "           0.1843,  0.4980,  0.3412,  0.2078,  0.1373, -0.8902, -1.0000],\n",
       "         [-1.0000, -0.9922, -1.0000, -1.0000, -1.0000, -1.0000, -1.0000,\n",
       "          -0.6392, -0.0588, -0.0980, -0.3490, -0.3647, -0.2157, -0.0039,\n",
       "           0.1843,  0.3020,  0.2471,  0.4039,  0.6784,  0.1608,  0.2235,\n",
       "           0.4118,  0.3804,  0.1765,  0.1686,  0.2078, -0.5843, -1.0000],\n",
       "         [-0.9922, -1.0000, -1.0000, -0.9059, -0.7176, -0.5059, -0.1529,\n",
       "           0.0039, -0.3333, -0.7882, -0.5294, -0.0353,  0.1843,  0.2078,\n",
       "           0.2157,  0.3490,  0.3098,  0.4902,  0.6784,  0.2000,  0.3569,\n",
       "           0.4039,  0.1451,  0.3020,  0.1686,  0.2078, -0.2706, -1.0000],\n",
       "         [-1.0000, -0.8902, -0.2863, -0.1686,  0.0431, -0.0039, -0.1765,\n",
       "          -0.5843, -0.6627, -0.2784,  0.1765,  0.2314,  0.2549,  0.3176,\n",
       "           0.3020,  0.3647,  0.2706,  0.5765,  0.6314,  0.1765,  0.5294,\n",
       "           0.3412,  0.3176,  0.2549,  0.1686,  0.2157, -0.0510, -1.0000],\n",
       "         [-1.0000, -0.2549, -0.1529, -0.3725, -0.7255, -0.7490, -0.5451,\n",
       "          -0.8039, -0.1059,  0.4039,  0.2706,  0.2941,  0.3098,  0.3412,\n",
       "           0.3647,  0.4275,  0.3176,  0.4902,  0.4824,  0.2706,  0.4980,\n",
       "           0.3333,  0.3569,  0.3020,  0.2471,  0.1373, -0.0902, -1.0000],\n",
       "         [-0.5765,  0.0353,  0.0510,  0.0510, -0.2235, -0.3490, -0.2078,\n",
       "          -0.1373,  0.1765,  0.2941,  0.3020,  0.3569,  0.3490,  0.3647,\n",
       "           0.3647,  0.3412,  0.4039,  0.4588,  0.4824,  0.4118,  0.3961,\n",
       "           0.3333,  0.3804,  0.4118,  0.3569,  0.3333,  0.3020, -0.7176],\n",
       "         [-0.5686, -0.1294,  0.0510,  0.1843,  0.2784,  0.3569,  0.3569,\n",
       "           0.3647,  0.3490,  0.3569,  0.3569,  0.4275,  0.5137,  0.5294,\n",
       "           0.5137,  0.4902,  0.5765,  0.6235,  0.5843,  0.5137,  0.5137,\n",
       "           0.4353,  0.3804,  0.3412,  0.2627,  0.0902, -0.0980, -0.7255],\n",
       "         [-0.9451, -0.7490, -0.5216, -0.4118, -0.4039, -0.3176, -0.2314,\n",
       "          -0.1373, -0.0353, -0.0039, -0.0039,  0.0118,  0.0353,  0.0353,\n",
       "           0.0431,  0.0980,  0.0824,  0.0980,  0.0118,  0.0510,  0.0275,\n",
       "          -0.1686, -0.3882, -0.4431, -0.4510, -0.4824, -0.3333, -0.5765],\n",
       "         [-1.0000, -1.0000, -1.0000, -0.9294, -0.7098, -0.6549, -0.5765,\n",
       "          -0.4588, -0.4196, -0.3882, -0.2784, -0.3176, -0.4431, -0.4588,\n",
       "          -0.4902, -0.5529, -0.6078, -0.6392, -0.5373, -0.1529, -0.1529,\n",
       "          -0.1765, -0.0510, -0.0510, -0.1216, -0.2314, -0.3176, -0.7490],\n",
       "         [-0.9922, -0.9922, -1.0000, -1.0000, -1.0000, -1.0000, -1.0000,\n",
       "          -1.0000, -0.9529, -0.9216, -0.9059, -0.9373, -0.9451, -0.9922,\n",
       "          -1.0000, -1.0000, -1.0000, -1.0000, -1.0000, -0.7098, -0.7647,\n",
       "          -0.8353, -0.8824, -0.9294, -0.9843, -1.0000, -1.0000, -1.0000],\n",
       "         [-1.0000, -1.0000, -1.0000, -1.0000, -1.0000, -1.0000, -1.0000,\n",
       "          -1.0000, -1.0000, -1.0000, -1.0000, -1.0000, -1.0000, -1.0000,\n",
       "          -1.0000, -1.0000, -1.0000, -1.0000, -1.0000, -1.0000, -1.0000,\n",
       "          -1.0000, -1.0000, -1.0000, -1.0000, -1.0000, -1.0000, -1.0000],\n",
       "         [-1.0000, -1.0000, -1.0000, -1.0000, -1.0000, -1.0000, -1.0000,\n",
       "          -1.0000, -1.0000, -1.0000, -1.0000, -1.0000, -1.0000, -1.0000,\n",
       "          -1.0000, -1.0000, -1.0000, -1.0000, -1.0000, -1.0000, -1.0000,\n",
       "          -1.0000, -1.0000, -1.0000, -1.0000, -1.0000, -1.0000, -1.0000],\n",
       "         [-1.0000, -1.0000, -1.0000, -1.0000, -1.0000, -1.0000, -1.0000,\n",
       "          -1.0000, -1.0000, -1.0000, -1.0000, -1.0000, -1.0000, -1.0000,\n",
       "          -1.0000, -1.0000, -1.0000, -1.0000, -1.0000, -1.0000, -1.0000,\n",
       "          -1.0000, -1.0000, -1.0000, -1.0000, -1.0000, -1.0000, -1.0000]]])"
      ]
     },
     "execution_count": 5,
     "metadata": {},
     "output_type": "execute_result"
    }
   ],
   "source": [
    "## image\n",
    "image[1]"
   ]
  },
  {
   "cell_type": "code",
   "execution_count": 6,
   "metadata": {
    "ExecuteTime": {
     "end_time": "2019-06-10T10:25:22.289803Z",
     "start_time": "2019-06-10T10:25:22.284816Z"
    }
   },
   "outputs": [
    {
     "name": "stdout",
     "output_type": "stream",
     "text": [
      "torch.Size([1, 28, 28])\n",
      "torch.Size([64, 1, 28, 28])\n"
     ]
    }
   ],
   "source": [
    "print(image[1].shape)\n",
    "print(image.shape)"
   ]
  },
  {
   "cell_type": "code",
   "execution_count": 7,
   "metadata": {
    "ExecuteTime": {
     "end_time": "2019-06-10T10:25:22.364602Z",
     "start_time": "2019-06-10T10:25:22.357621Z"
    }
   },
   "outputs": [
    {
     "data": {
      "text/plain": [
       "tensor([8, 9, 7, 9, 2, 2, 4, 7, 5, 0, 7, 6, 2, 6, 6, 2, 8, 8, 5, 7, 3, 3, 3, 4,\n",
       "        3, 4, 0, 1, 5, 5, 0, 9, 7, 7, 2, 1, 4, 5, 2, 2, 4, 6, 7, 3, 9, 2, 5, 7,\n",
       "        2, 9, 8, 8, 7, 3, 7, 8, 2, 3, 4, 6, 6, 7, 8, 0])"
      ]
     },
     "execution_count": 7,
     "metadata": {},
     "output_type": "execute_result"
    }
   ],
   "source": [
    "label"
   ]
  },
  {
   "cell_type": "markdown",
   "metadata": {
    "ExecuteTime": {
     "end_time": "2019-06-09T02:35:50.631500Z",
     "start_time": "2019-06-09T02:35:50.615542Z"
    }
   },
   "source": [
    "可以看到的是image是tensor的列表，28$\\times$28的灰度图，label是标签列表组成的tensor。\n",
    "\n",
    "其中image被标准化到-1和1之间，细看才明白图像边缘应该都差不多（-1），中间会出现重要的特征（非-1）。"
   ]
  },
  {
   "cell_type": "markdown",
   "metadata": {},
   "source": [
    "## 神经网络训练"
   ]
  },
  {
   "cell_type": "markdown",
   "metadata": {},
   "source": [
    "### 四层全连接神经网络"
   ]
  },
  {
   "cell_type": "code",
   "execution_count": 8,
   "metadata": {
    "ExecuteTime": {
     "end_time": "2019-06-10T10:25:33.106866Z",
     "start_time": "2019-06-10T10:25:33.099885Z"
    }
   },
   "outputs": [],
   "source": [
    "from torch import nn, optim\n",
    "import torch.nn.functional as F\n",
    "\n",
    "class Classifier(nn.Module):\n",
    "    def __init__(self):\n",
    "        super().__init__()\n",
    "        self.fc1 = nn.Linear(784, 256)\n",
    "        self.fc2 = nn.Linear(256, 128)\n",
    "        self.fc3 = nn.Linear(128, 64)\n",
    "        self.fc4 = nn.Linear(64, 10)\n",
    "        \n",
    "    def forward(self, x):\n",
    "        # make sure input tensor is flattened\n",
    "        x = x.view(x.shape[0], -1)\n",
    "        \n",
    "        x = F.relu(self.fc1(x))\n",
    "        x = F.relu(self.fc2(x))\n",
    "        x = F.relu(self.fc3(x))\n",
    "        x = F.log_softmax(self.fc4(x), dim=1)\n",
    "        \n",
    "        return x"
   ]
  },
  {
   "cell_type": "code",
   "execution_count": 15,
   "metadata": {
    "ExecuteTime": {
     "end_time": "2019-06-10T10:37:45.783927Z",
     "start_time": "2019-06-10T10:30:37.480378Z"
    }
   },
   "outputs": [
    {
     "name": "stdout",
     "output_type": "stream",
     "text": [
      "开始训练\n",
      "训练集学习次数: 1/15..  训练误差: 0.515..  测试误差: 0.442..  模型分类准确率: 0.838\n",
      "训练集学习次数: 2/15..  训练误差: 0.388..  测试误差: 0.434..  模型分类准确率: 0.841\n",
      "训练集学习次数: 3/15..  训练误差: 0.355..  测试误差: 0.415..  模型分类准确率: 0.852\n",
      "训练集学习次数: 4/15..  训练误差: 0.330..  测试误差: 0.408..  模型分类准确率: 0.855\n",
      "训练集学习次数: 5/15..  训练误差: 0.315..  测试误差: 0.371..  模型分类准确率: 0.866\n",
      "训练集学习次数: 6/15..  训练误差: 0.304..  测试误差: 0.358..  模型分类准确率: 0.876\n",
      "训练集学习次数: 7/15..  训练误差: 0.286..  测试误差: 0.377..  模型分类准确率: 0.873\n",
      "训练集学习次数: 8/15..  训练误差: 0.284..  测试误差: 0.375..  模型分类准确率: 0.867\n",
      "训练集学习次数: 9/15..  训练误差: 0.275..  测试误差: 0.361..  模型分类准确率: 0.874\n",
      "训练集学习次数: 10/15..  训练误差: 0.263..  测试误差: 0.378..  模型分类准确率: 0.871\n",
      "训练集学习次数: 11/15..  训练误差: 0.261..  测试误差: 0.357..  模型分类准确率: 0.876\n",
      "训练集学习次数: 12/15..  训练误差: 0.252..  测试误差: 0.358..  模型分类准确率: 0.876\n",
      "训练集学习次数: 13/15..  训练误差: 0.246..  测试误差: 0.366..  模型分类准确率: 0.878\n",
      "训练集学习次数: 14/15..  训练误差: 0.241..  测试误差: 0.365..  模型分类准确率: 0.877\n",
      "训练集学习次数: 15/15..  训练误差: 0.239..  测试误差: 0.364..  模型分类准确率: 0.881\n"
     ]
    }
   ],
   "source": [
    "# 对上面定义的Classifier类进行实例化\n",
    "model = Classifier()\n",
    "\n",
    "# 定义损失函数为负对数损失函数\n",
    "criterion = nn.NLLLoss()\n",
    "\n",
    "# 优化方法为Adam梯度下降方法，学习率为0.003\n",
    "optimizer = optim.Adam(model.parameters(), lr=0.003)\n",
    "\n",
    "# 对训练集的全部数据学习15遍，这个数字越大，训练时间越长\n",
    "epochs = 15\n",
    "\n",
    "# 将每次训练的训练误差和测试误差存储在这两个列表里，后面绘制误差变化折线图用\n",
    "train_losses, test_losses = [], []\n",
    "\n",
    "print('开始训练')\n",
    "for e in range(epochs):\n",
    "    running_loss = 0\n",
    "    \n",
    "    # 对训练集中的所有图片都过一遍\n",
    "    for images, labels in trainloader:\n",
    "        # 将优化器中的求导结果都设为0，否则会在每次反向传播之后叠加之前的\n",
    "        optimizer.zero_grad()\n",
    "        \n",
    "        # 对64张图片进行推断，计算损失函数，反向传播优化权重，将损失求和\n",
    "        log_ps = model(images)\n",
    "        loss = criterion(log_ps, labels)\n",
    "        loss.backward()\n",
    "        optimizer.step()\n",
    "        running_loss += loss.item()\n",
    "    \n",
    "    # 每次学完一遍数据集，都进行以下测试操作\n",
    "    else:\n",
    "        test_loss = 0\n",
    "        accuracy = 0\n",
    "        # 测试的时候不需要开自动求导和反向传播\n",
    "        with torch.no_grad():\n",
    "            # 关闭Dropout\n",
    "            model.eval()\n",
    "            \n",
    "            # 对测试集中的所有图片都过一遍\n",
    "            for images, labels in testloader:\n",
    "                # 对传入的测试集图片进行正向推断、计算损失，accuracy为测试集一万张图片中模型预测正确率\n",
    "                log_ps = model(images)\n",
    "                test_loss += criterion(log_ps, labels)\n",
    "                ps = torch.exp(log_ps)\n",
    "                top_p, top_class = ps.topk(1, dim=1)\n",
    "                equals = top_class == labels.view(*top_class.shape)\n",
    "                \n",
    "                # 等号右边为每一批64张测试图片中预测正确的占比\n",
    "                accuracy += torch.mean(equals.type(torch.FloatTensor))\n",
    "        # 恢复Dropout\n",
    "        model.train()\n",
    "        # 将训练误差和测试误差存在两个列表里，后面绘制误差变化折线图用\n",
    "        train_losses.append(running_loss/len(trainloader))\n",
    "        test_losses.append(test_loss/len(testloader))\n",
    "\n",
    "        print(\"训练集学习次数: {}/{}.. \".format(e+1, epochs),\n",
    "              \"训练误差: {:.3f}.. \".format(running_loss/len(trainloader)),\n",
    "              \"测试误差: {:.3f}.. \".format(test_loss/len(testloader)),\n",
    "              \"模型分类准确率: {:.3f}\".format(accuracy/len(testloader)))"
   ]
  },
  {
   "cell_type": "markdown",
   "metadata": {},
   "source": [
    "以上的代码均来自子豪，我已阅读所有代码。"
   ]
  },
  {
   "cell_type": "code",
   "execution_count": 17,
   "metadata": {
    "ExecuteTime": {
     "end_time": "2019-06-10T10:37:51.815792Z",
     "start_time": "2019-06-10T10:37:51.808333Z"
    }
   },
   "outputs": [
    {
     "data": {
      "text/plain": [
       "<torch.utils.data.dataloader.DataLoader at 0x1b396a52ef0>"
      ]
     },
     "execution_count": 17,
     "metadata": {},
     "output_type": "execute_result"
    }
   ],
   "source": [
    "testloader"
   ]
  },
  {
   "cell_type": "markdown",
   "metadata": {},
   "source": [
    "一个难办的事情是这些数据集都是加载好的，但是如果想用自己的数据就不太方便。到时候我再看看吧QwQ。"
   ]
  },
  {
   "cell_type": "markdown",
   "metadata": {},
   "source": [
    "### 测试单个例子"
   ]
  },
  {
   "cell_type": "code",
   "execution_count": 18,
   "metadata": {
    "ExecuteTime": {
     "end_time": "2019-06-10T10:37:54.084723Z",
     "start_time": "2019-06-10T10:37:53.896226Z"
    }
   },
   "outputs": [
    {
     "name": "stdout",
     "output_type": "stream",
     "text": [
      "output是tensor([[ -0.7812,  -8.8485,  -5.5040,  -4.9422,  -6.5097, -22.5740,  -0.6363,\n",
      "         -30.4438,  -9.9643, -33.3823]])\n",
      "ps是tensor([[4.5784e-01, 1.4360e-04, 4.0703e-03, 7.1389e-03, 1.4889e-03, 1.5713e-10,\n",
      "         5.2927e-01, 6.0040e-14, 4.7052e-05, 3.1788e-15]])\n",
      "神经网络猜测图片里是 汗衫，概率为52.927082777023315%\n"
     ]
    },
    {
     "data": {
      "image/png": "[encoded data removed]",
      "text/plain": [
       "<Figure size 432x288 with 1 Axes>"
      ]
     },
     "metadata": {
      "needs_background": "light"
     },
     "output_type": "display_data"
    }
   ],
   "source": [
    "dataiter = iter(testloader)\n",
    "images, labels = dataiter.next()# 还有一种写法是 image, label = next(iter(trainloader))\n",
    "img = images[0]\n",
    "img = img.reshape((28,28)).numpy()# tensor或者array都可以作图哦\n",
    "plt.imshow(img)\n",
    "\n",
    "\n",
    "# 将测试图片转为一维的列向量\n",
    "img = torch.from_numpy(img)\n",
    "img = img.view(1, 784)\n",
    "\n",
    "# 进行正向推断，预测图片所在的类别\n",
    "with torch.no_grad():\n",
    "    output = model.forward(img)\n",
    "ps = torch.exp(output)\n",
    "print(f'output是{output}')\n",
    "print(f'ps是{ps}')\n",
    "\n",
    "top_p, top_class = ps.topk(1, dim=1) # topk函数，https://pytorch.org/docs/stable/torch.html?highlight=topk#torch.topk\n",
    "prediction = labellist[top_class]\n",
    "probability = float(top_p)\n",
    "print(f'神经网络猜测图片里是 {prediction}，概率为{probability*100}%')"
   ]
  },
  {
   "cell_type": "markdown",
   "metadata": {},
   "source": [
    "先要把用于测试的数据转换为一维列向量，且返回的是属于各个类别的概率值"
   ]
  },
  {
   "cell_type": "markdown",
   "metadata": {},
   "source": [
    "### Loss曲线"
   ]
  },
  {
   "cell_type": "code",
   "execution_count": 19,
   "metadata": {
    "ExecuteTime": {
     "end_time": "2019-06-10T10:37:57.762884Z",
     "start_time": "2019-06-10T10:37:57.585358Z"
    }
   },
   "outputs": [
    {
     "data": {
      "text/plain": [
       "<matplotlib.legend.Legend at 0x1b398d65550>"
      ]
     },
     "execution_count": 19,
     "metadata": {},
     "output_type": "execute_result"
    },
    {
     "data": {
      "image/png": "[encoded data removed]",
      "text/plain": [
       "<Figure size 432x288 with 1 Axes>"
      ]
     },
     "metadata": {
      "needs_background": "light"
     },
     "output_type": "display_data"
    }
   ],
   "source": [
    "import matplotlib.pyplot as plt\n",
    "%matplotlib inline\n",
    "\n",
    "plt.plot(train_losses, label='Training loss')\n",
    "plt.plot(test_losses, label='Validation loss')\n",
    "plt.legend()"
   ]
  },
  {
   "cell_type": "markdown",
   "metadata": {},
   "source": [
    "训练误差持续下降，但是验证集上的误差反复波动，按照子豪的说法，这是过拟合的表现。\n",
    "\n",
    "为什么呢？留待考察。"
   ]
  },
  {
   "cell_type": "markdown",
   "metadata": {},
   "source": [
    "为了缓解过拟合的现象，需要使用`Dropout`或者是添加$L_2$正则项，etc。"
   ]
  },
  {
   "cell_type": "markdown",
   "metadata": {},
   "source": [
    "### Dropout 方法缓解过拟合"
   ]
  },
  {
   "cell_type": "code",
   "execution_count": 20,
   "metadata": {
    "ExecuteTime": {
     "end_time": "2019-06-10T10:38:04.371224Z",
     "start_time": "2019-06-10T10:38:04.362242Z"
    }
   },
   "outputs": [],
   "source": [
    "class Classifier(nn.Module):\n",
    "    def __init__(self):\n",
    "        super().__init__()\n",
    "        self.fc1 = nn.Linear(784, 256)\n",
    "        self.fc2 = nn.Linear(256, 128)\n",
    "        self.fc3 = nn.Linear(128, 64)\n",
    "        self.fc4 = nn.Linear(64, 10)\n",
    "        \n",
    "        # 构造Dropout方法，在每次训练过程中都随机“掐死”百分之二十的神经元，防止过拟合。\n",
    "        self.dropout = nn.Dropout(p=0.2) # 本来没有这一行\n",
    "        \n",
    "    def forward(self, x):\n",
    "        # 确保输入的tensor是展开的单列数据，把每张图片的通道、长度、宽度三个维度都压缩为一列\n",
    "        x = x.view(x.shape[0], -1)\n",
    "        \n",
    "        # 在训练过程中对隐含层神经元的正向推断使用Dropout方法\n",
    "        x = self.dropout(F.relu(self.fc1(x))) # dropout是这样用的？？！！\n",
    "        x = self.dropout(F.relu(self.fc2(x)))\n",
    "        x = self.dropout(F.relu(self.fc3(x)))\n",
    "        \n",
    "        # 在输出单元不需要使用Dropout方法\n",
    "        x = F.log_softmax(self.fc4(x), dim=1)\n",
    "        \n",
    "        return x"
   ]
  },
  {
   "cell_type": "code",
   "execution_count": 21,
   "metadata": {
    "ExecuteTime": {
     "end_time": "2019-06-10T10:46:10.095110Z",
     "start_time": "2019-06-10T10:39:00.463539Z"
    }
   },
   "outputs": [
    {
     "name": "stdout",
     "output_type": "stream",
     "text": [
      "开始训练\n",
      "训练集学习次数: 1/15..  训练误差: 0.611..  测试误差: 0.452..  模型分类准确率: 0.838\n",
      "训练集学习次数: 2/15..  训练误差: 0.479..  测试误差: 0.425..  模型分类准确率: 0.845\n",
      "训练集学习次数: 3/15..  训练误差: 0.457..  测试误差: 0.443..  模型分类准确率: 0.839\n",
      "训练集学习次数: 4/15..  训练误差: 0.435..  测试误差: 0.432..  模型分类准确率: 0.845\n",
      "训练集学习次数: 5/15..  训练误差: 0.422..  测试误差: 0.413..  模型分类准确率: 0.854\n",
      "训练集学习次数: 6/15..  训练误差: 0.411..  测试误差: 0.415..  模型分类准确率: 0.855\n",
      "训练集学习次数: 7/15..  训练误差: 0.406..  测试误差: 0.404..  模型分类准确率: 0.865\n",
      "训练集学习次数: 8/15..  训练误差: 0.401..  测试误差: 0.413..  模型分类准确率: 0.850\n",
      "训练集学习次数: 9/15..  训练误差: 0.393..  测试误差: 0.397..  模型分类准确率: 0.856\n",
      "训练集学习次数: 10/15..  训练误差: 0.383..  测试误差: 0.400..  模型分类准确率: 0.865\n",
      "训练集学习次数: 11/15..  训练误差: 0.380..  测试误差: 0.377..  模型分类准确率: 0.870\n",
      "训练集学习次数: 12/15..  训练误差: 0.374..  测试误差: 0.369..  模型分类准确率: 0.868\n",
      "训练集学习次数: 13/15..  训练误差: 0.373..  测试误差: 0.372..  模型分类准确率: 0.870\n",
      "训练集学习次数: 14/15..  训练误差: 0.375..  测试误差: 0.378..  模型分类准确率: 0.871\n",
      "训练集学习次数: 15/15..  训练误差: 0.371..  测试误差: 0.375..  模型分类准确率: 0.871\n"
     ]
    }
   ],
   "source": [
    "# 对上面定义的Classifier类进行实例化\n",
    "model = Classifier()\n",
    "\n",
    "# 定义损失函数为负对数损失函数\n",
    "criterion = nn.NLLLoss()\n",
    "\n",
    "# 优化方法为Adam梯度下降方法，学习率为0.003\n",
    "optimizer = optim.Adam(model.parameters(), lr=0.003)\n",
    "\n",
    "# 对训练集的全部数据学习15遍，这个数字越大，训练时间越长\n",
    "epochs = 15\n",
    "\n",
    "# 将每次训练的训练误差和测试误差存储在这两个列表里，后面绘制误差变化折线图用\n",
    "train_losses, test_losses = [], []\n",
    "\n",
    "print('开始训练')\n",
    "for e in range(epochs):\n",
    "    running_loss = 0\n",
    "    \n",
    "    # 对训练集中的所有图片都过一遍\n",
    "    for images, labels in trainloader:\n",
    "        # 将优化器中的求导结果都设为0，否则会在每次反向传播之后叠加之前的\n",
    "        optimizer.zero_grad()\n",
    "        \n",
    "        # 对64张图片进行推断，计算损失函数，反向传播优化权重，将损失求和\n",
    "        log_ps = model(images)\n",
    "        loss = criterion(log_ps, labels)\n",
    "        loss.backward()\n",
    "        optimizer.step()\n",
    "        running_loss += loss.item()\n",
    "    \n",
    "    # 每次学完一遍数据集，都进行以下测试操作\n",
    "    else:\n",
    "        test_loss = 0\n",
    "        accuracy = 0\n",
    "        # 测试的时候不需要开自动求导和反向传播\n",
    "        with torch.no_grad():\n",
    "            # 关闭Dropout\n",
    "            model.eval()\n",
    "            \n",
    "            # 对测试集中的所有图片都过一遍\n",
    "            for images, labels in testloader:\n",
    "                # 对传入的测试集图片进行正向推断、计算损失，accuracy为测试集一万张图片中模型预测正确率\n",
    "                log_ps = model(images)\n",
    "                test_loss += criterion(log_ps, labels)\n",
    "                ps = torch.exp(log_ps)\n",
    "                top_p, top_class = ps.topk(1, dim=1)\n",
    "                equals = top_class == labels.view(*top_class.shape)\n",
    "                \n",
    "                # 等号右边为每一批64张测试图片中预测正确的占比\n",
    "                accuracy += torch.mean(equals.type(torch.FloatTensor))\n",
    "        # 恢复Dropout\n",
    "        model.train()\n",
    "        # 将训练误差和测试误差存在两个列表里，后面绘制误差变化折线图用\n",
    "        train_losses.append(running_loss/len(trainloader))\n",
    "        test_losses.append(test_loss/len(testloader))\n",
    "\n",
    "        print(\"训练集学习次数: {}/{}.. \".format(e+1, epochs),\n",
    "              \"训练误差: {:.3f}.. \".format(running_loss/len(trainloader)),\n",
    "              \"测试误差: {:.3f}.. \".format(test_loss/len(testloader)),\n",
    "              \"模型分类准确率: {:.3f}\".format(accuracy/len(testloader)))"
   ]
  },
  {
   "cell_type": "markdown",
   "metadata": {},
   "source": [
    "如上所示，这里学习的是怎么样添加`dropout`方法，只需要在神经网络类中进行操作。\n",
    "\n",
    "不过仅仅看上面的训练结果，dropout 20%带来了波动的准确率，至于效果还要看Loss曲线。\n",
    "\n",
    "效果如下所示，先看测试单个例子（预计差别不大）；并给出Loss曲线（验证集的误差可能持续下降）。"
   ]
  },
  {
   "cell_type": "code",
   "execution_count": 22,
   "metadata": {
    "ExecuteTime": {
     "end_time": "2019-06-10T10:56:29.954264Z",
     "start_time": "2019-06-10T10:56:29.764773Z"
    }
   },
   "outputs": [
    {
     "name": "stdout",
     "output_type": "stream",
     "text": [
      "神经网络猜测图片里是 裤子，概率为100.0%\n"
     ]
    },
    {
     "data": {
      "image/png": "[encoded data removed]",
      "text/plain": [
       "<Figure size 432x288 with 1 Axes>"
      ]
     },
     "metadata": {
      "needs_background": "light"
     },
     "output_type": "display_data"
    }
   ],
   "source": [
    "model.eval()\n",
    "dataiter = iter(testloader)\n",
    "images, labels = dataiter.next()\n",
    "img = images[0]\n",
    "img = img.reshape((28,28)).numpy()\n",
    "plt.imshow(img)\n",
    "\n",
    "# 将测试图片转为一维的列向量\n",
    "img = torch.from_numpy(img)\n",
    "img = img.view(1, 784)\n",
    "\n",
    "# 进行正向推断，预测图片所在的类别\n",
    "with torch.no_grad():\n",
    "    output = model.forward(img)\n",
    "ps = torch.exp(output)\n",
    "\n",
    "top_p, top_class = ps.topk(1, dim=1)\n",
    "labellist = ['T恤','裤子','套衫','裙子','外套','凉鞋','汗衫','运动鞋','包包','靴子']\n",
    "prediction = labellist[top_class]\n",
    "probability = float(top_p)\n",
    "print(f'神经网络猜测图片里是 {prediction}，概率为{probability*100}%')"
   ]
  },
  {
   "cell_type": "code",
   "execution_count": 23,
   "metadata": {
    "ExecuteTime": {
     "end_time": "2019-06-10T10:56:42.096782Z",
     "start_time": "2019-06-10T10:56:41.916266Z"
    }
   },
   "outputs": [
    {
     "data": {
      "text/plain": [
       "<matplotlib.legend.Legend at 0x1b398f21748>"
      ]
     },
     "execution_count": 23,
     "metadata": {},
     "output_type": "execute_result"
    },
    {
     "data": {
      "image/png": "[encoded data removed]",
      "text/plain": [
       "<Figure size 432x288 with 1 Axes>"
      ]
     },
     "metadata": {
      "needs_background": "light"
     },
     "output_type": "display_data"
    }
   ],
   "source": [
    "import matplotlib.pyplot as plt\n",
    "%matplotlib inline\n",
    "\n",
    "plt.plot(train_losses, label='Training loss')\n",
    "plt.plot(test_losses, label='Validation loss')\n",
    "plt.legend()"
   ]
  },
  {
   "cell_type": "markdown",
   "metadata": {},
   "source": [
    "可以看到，整体的Loss的确是在下降的。"
   ]
  },
  {
   "cell_type": "markdown",
   "metadata": {},
   "source": [
    "### $L_1$ & $L_2$ 正则化"
   ]
  },
  {
   "cell_type": "markdown",
   "metadata": {},
   "source": [
    "首先声明这里的方法参考自[知乎](https://zhuanlan.zhihu.com/p/62393636)，但是在CSDN上也看到了一样的文章，我个人对此不作评论。\n",
    "\n",
    "$L_1$需要手动实现，直接跳过，试水$L_2$吧。目的是大的权重（或者说参数）施加更严重的惩罚，至于有多严重就是靠调参数了。知乎上建议可以用$10^{-4}$或者$10^{-3}$数量级。\n",
    "\n",
    "在`PyTorch`中，$L_2$正则项反映在优化器，即`optimizer`的参数`weight_decay(float, optional)`上，一般来说默认为0，需要正则的话就去调整它。"
   ]
  },
  {
   "cell_type": "code",
   "execution_count": 24,
   "metadata": {
    "ExecuteTime": {
     "end_time": "2019-06-10T14:44:00.097310Z",
     "start_time": "2019-06-10T14:36:04.616006Z"
    }
   },
   "outputs": [
    {
     "name": "stdout",
     "output_type": "stream",
     "text": [
      "开始训练\n",
      "训练集学习次数: 1/15..  训练误差: 0.640..  测试误差: 0.504..  模型分类准确率: 0.821\n",
      "训练集学习次数: 2/15..  训练误差: 0.544..  测试误差: 0.517..  模型分类准确率: 0.820\n",
      "训练集学习次数: 3/15..  训练误差: 0.539..  测试误差: 0.497..  模型分类准确率: 0.821\n",
      "训练集学习次数: 4/15..  训练误差: 0.523..  测试误差: 0.478..  模型分类准确率: 0.827\n",
      "训练集学习次数: 5/15..  训练误差: 0.520..  测试误差: 0.475..  模型分类准确率: 0.821\n",
      "训练集学习次数: 6/15..  训练误差: 0.522..  测试误差: 0.461..  模型分类准确率: 0.833\n",
      "训练集学习次数: 7/15..  训练误差: 0.517..  测试误差: 0.502..  模型分类准确率: 0.810\n",
      "训练集学习次数: 8/15..  训练误差: 0.508..  测试误差: 0.495..  模型分类准确率: 0.811\n",
      "训练集学习次数: 9/15..  训练误差: 0.518..  测试误差: 0.504..  模型分类准确率: 0.803\n",
      "训练集学习次数: 10/15..  训练误差: 0.510..  测试误差: 0.471..  模型分类准确率: 0.833\n",
      "训练集学习次数: 11/15..  训练误差: 0.506..  测试误差: 0.457..  模型分类准确率: 0.838\n",
      "训练集学习次数: 12/15..  训练误差: 0.508..  测试误差: 0.478..  模型分类准确率: 0.829\n",
      "训练集学习次数: 13/15..  训练误差: 0.507..  测试误差: 0.436..  模型分类准确率: 0.842\n",
      "训练集学习次数: 14/15..  训练误差: 0.503..  测试误差: 0.452..  模型分类准确率: 0.835\n",
      "训练集学习次数: 15/15..  训练误差: 0.508..  测试误差: 0.492..  模型分类准确率: 0.821\n"
     ]
    }
   ],
   "source": [
    "from torch import nn, optim\n",
    "import torch.nn.functional as F\n",
    "\n",
    "import matplotlib.pyplot as plt\n",
    "%matplotlib inline\n",
    "\n",
    "class Classifier(nn.Module):\n",
    "    def __init__(self):\n",
    "        super().__init__()\n",
    "        self.fc1 = nn.Linear(784, 256)\n",
    "        self.fc2 = nn.Linear(256, 128)\n",
    "        self.fc3 = nn.Linear(128, 64)\n",
    "        self.fc4 = nn.Linear(64, 10)\n",
    "        \n",
    "        # 构造Dropout方法，在每次训练过程中都随机“掐死”百分之二十的神经元，防止过拟合。\n",
    "        self.dropout = nn.Dropout(p=0.2) # 本来没有这一行\n",
    "        \n",
    "    def forward(self, x):\n",
    "        # 确保输入的tensor是展开的单列数据，把每张图片的通道、长度、宽度三个维度都压缩为一列\n",
    "        x = x.view(x.shape[0], -1)\n",
    "        \n",
    "        # 在训练过程中对隐含层神经元的正向推断使用Dropout方法\n",
    "        x = self.dropout(F.relu(self.fc1(x))) # dropout是这样用的？？！！\n",
    "        x = self.dropout(F.relu(self.fc2(x)))\n",
    "        x = self.dropout(F.relu(self.fc3(x)))\n",
    "        \n",
    "        # 在输出单元不需要使用Dropout方法\n",
    "        x = F.log_softmax(self.fc4(x), dim=1)\n",
    "        \n",
    "        return x\n",
    "\n",
    "\n",
    "# 对上面定义的Classifier类进行实例化\n",
    "model = Classifier()\n",
    "\n",
    "# 定义损失函数为负对数损失函数\n",
    "criterion = nn.NLLLoss()\n",
    "\n",
    "# 优化方法为Adam梯度下降方法，学习率为0.003\n",
    "optimizer = optim.Adam(model.parameters(), lr=0.003, weight_decay=0.001)\n",
    "\n",
    "# 对训练集的全部数据学习15遍，这个数字越大，训练时间越长\n",
    "epochs = 15\n",
    "\n",
    "# 将每次训练的训练误差和测试误差存储在这两个列表里，后面绘制误差变化折线图用\n",
    "train_losses, test_losses = [], []\n",
    "\n",
    "print('开始训练')\n",
    "for e in range(epochs):\n",
    "    running_loss = 0\n",
    "    \n",
    "    # 对训练集中的所有图片都过一遍\n",
    "    for images, labels in trainloader:\n",
    "        # 将优化器中的求导结果都设为0，否则会在每次反向传播之后叠加之前的\n",
    "        optimizer.zero_grad()\n",
    "        \n",
    "        # 对64张图片进行推断，计算损失函数，反向传播优化权重，将损失求和\n",
    "        log_ps = model(images)\n",
    "        loss = criterion(log_ps, labels)\n",
    "        loss.backward()\n",
    "        optimizer.step()\n",
    "        running_loss += loss.item()\n",
    "    \n",
    "    # 每次学完一遍数据集，都进行以下测试操作\n",
    "    else:\n",
    "        test_loss = 0\n",
    "        accuracy = 0\n",
    "        # 测试的时候不需要开自动求导和反向传播\n",
    "        with torch.no_grad():\n",
    "            # 关闭Dropout\n",
    "            model.eval()\n",
    "            \n",
    "            # 对测试集中的所有图片都过一遍\n",
    "            for images, labels in testloader:\n",
    "                # 对传入的测试集图片进行正向推断、计算损失，accuracy为测试集一万张图片中模型预测正确率\n",
    "                log_ps = model(images)\n",
    "                test_loss += criterion(log_ps, labels)\n",
    "                ps = torch.exp(log_ps)\n",
    "                top_p, top_class = ps.topk(1, dim=1)\n",
    "                equals = top_class == labels.view(*top_class.shape)\n",
    "                \n",
    "                # 等号右边为每一批64张测试图片中预测正确的占比\n",
    "                accuracy += torch.mean(equals.type(torch.FloatTensor))\n",
    "        # 恢复Dropout\n",
    "        model.train()\n",
    "        # 将训练误差和测试误差存在两个列表里，后面绘制误差变化折线图用\n",
    "        train_losses.append(running_loss/len(trainloader))\n",
    "        test_losses.append(test_loss/len(testloader))\n",
    "\n",
    "        print(\"训练集学习次数: {}/{}.. \".format(e+1, epochs),\n",
    "              \"训练误差: {:.3f}.. \".format(running_loss/len(trainloader)),\n",
    "              \"测试误差: {:.3f}.. \".format(test_loss/len(testloader)),\n",
    "              \"模型分类准确率: {:.3f}\".format(accuracy/len(testloader)))"
   ]
  },
  {
   "cell_type": "code",
   "execution_count": 26,
   "metadata": {
    "ExecuteTime": {
     "end_time": "2019-06-11T00:49:39.436705Z",
     "start_time": "2019-06-11T00:49:39.175778Z"
    }
   },
   "outputs": [
    {
     "name": "stdout",
     "output_type": "stream",
     "text": [
      "神经网络猜测图片里是 套衫，概率为91.29619002342224%\n"
     ]
    },
    {
     "data": {
      "image/png": "[encoded data removed]",
      "text/plain": [
       "<Figure size 432x288 with 1 Axes>"
      ]
     },
     "metadata": {
      "needs_background": "light"
     },
     "output_type": "display_data"
    }
   ],
   "source": [
    "model.eval()\n",
    "dataiter = iter(testloader)\n",
    "images, labels = dataiter.next()\n",
    "img = images[0]\n",
    "img = img.reshape((28,28)).numpy()\n",
    "plt.imshow(img)\n",
    "\n",
    "# 将测试图片转为一维的列向量\n",
    "img = torch.from_numpy(img)\n",
    "img = img.view(1, 784)\n",
    "\n",
    "# 进行正向推断，预测图片所在的类别\n",
    "with torch.no_grad():\n",
    "    output = model.forward(img)\n",
    "ps = torch.exp(output)\n",
    "\n",
    "top_p, top_class = ps.topk(1, dim=1)\n",
    "labellist = ['T恤','裤子','套衫','裙子','外套','凉鞋','汗衫','运动鞋','包包','靴子']\n",
    "prediction = labellist[top_class]\n",
    "probability = float(top_p)\n",
    "print(f'神经网络猜测图片里是 {prediction}，概率为{probability*100}%')"
   ]
  },
  {
   "cell_type": "code",
   "execution_count": 28,
   "metadata": {
    "ExecuteTime": {
     "end_time": "2019-06-11T00:50:39.209311Z",
     "start_time": "2019-06-11T00:50:38.967298Z"
    }
   },
   "outputs": [
    {
     "data": {
      "text/plain": [
       "<matplotlib.legend.Legend at 0x1b399a56278>"
      ]
     },
     "execution_count": 28,
     "metadata": {},
     "output_type": "execute_result"
    },
    {
     "data": {
      "image/png": "[encoded data removed]",
      "text/plain": [
       "<Figure size 432x288 with 1 Axes>"
      ]
     },
     "metadata": {
      "needs_background": "light"
     },
     "output_type": "display_data"
    }
   ],
   "source": [
    "plt.plot(train_losses, label='Training loss')\n",
    "plt.plot(test_losses, label='Validation loss')\n",
    "plt.legend()"
   ]
  },
  {
   "cell_type": "markdown",
   "metadata": {},
   "source": [
    "惊了，验证集的误差竟然比测试集还低，本来以为两次缓解过拟合会出现学的不太好的情况。"
   ]
  },
  {
   "cell_type": "code",
   "execution_count": null,
   "metadata": {},
   "outputs": [],
   "source": []
  }
 ],
 "metadata": {
  "kernelspec": {
   "display_name": "Python 3",
   "language": "python",
   "name": "python3"
  },
  "language_info": {
   "codemirror_mode": {
    "name": "ipython",
    "version": 3
   },
   "file_extension": ".py",
   "mimetype": "text/x-python",
   "name": "python",
   "nbconvert_exporter": "python",
   "pygments_lexer": "ipython3",
   "version": "3.7.3"
  },
  "latex_envs": {
   "LaTeX_envs_menu_present": true,
   "autoclose": false,
   "autocomplete": true,
   "bibliofile": "biblio.bib",
   "cite_by": "apalike",
   "current_citInitial": 1,
   "eqLabelWithNumbers": true,
   "eqNumInitial": 1,
   "hotkeys": {
    "equation": "Ctrl-E",
    "itemize": "Ctrl-I"
   },
   "labels_anchors": false,
   "latex_user_defs": false,
   "report_style_numbering": false,
   "user_envs_cfg": false
  },
  "toc": {
   "base_numbering": 1,
   "nav_menu": {},
   "number_sections": true,
   "sideBar": true,
   "skip_h1_title": false,
   "title_cell": "Table of Contents",
   "title_sidebar": "Contents",
   "toc_cell": false,
   "toc_position": {
    "height": "calc(100% - 180px)",
    "left": "10px",
    "top": "150px",
    "width": "380.797px"
   },
   "toc_section_display": true,
   "toc_window_display": true
  },
  "varInspector": {
   "cols": {
    "lenName": 16,
    "lenType": 16,
    "lenVar": 40
   },
   "kernels_config": {
    "python": {
     "delete_cmd_postfix": "",
     "delete_cmd_prefix": "del ",
     "library": "var_list.py",
     "varRefreshCmd": "print(var_dic_list())"
    },
    "r": {
     "delete_cmd_postfix": ") ",
     "delete_cmd_prefix": "rm(",
     "library": "var_list.r",
     "varRefreshCmd": "cat(var_dic_list()) "
    }
   },
   "types_to_exclude": [
    "module",
    "function",
    "builtin_function_or_method",
    "instance",
    "_Feature"
   ],
   "window_display": false
  }
 },
 "nbformat": 4,
 "nbformat_minor": 2
}
